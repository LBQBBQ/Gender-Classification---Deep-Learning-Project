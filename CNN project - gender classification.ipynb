{
 "cells": [
  {
   "cell_type": "code",
   "execution_count": 13,
   "id": "cd2b3b1e",
   "metadata": {},
   "outputs": [],
   "source": [
    "import tensorflow as tf"
   ]
  },
  {
   "cell_type": "code",
   "execution_count": 14,
   "id": "086b7531",
   "metadata": {},
   "outputs": [],
   "source": [
    "from keras.preprocessing.image import ImageDataGenerator"
   ]
  },
  {
   "cell_type": "markdown",
   "id": "48250c8b",
   "metadata": {},
   "source": [
    "## 1. Data Preprocessing"
   ]
  },
  {
   "cell_type": "markdown",
   "id": "724b3b38",
   "metadata": {},
   "source": [
    "### preprocessing train data"
   ]
  },
  {
   "cell_type": "code",
   "execution_count": 16,
   "id": "ee4ef897",
   "metadata": {},
   "outputs": [
    {
     "name": "stdout",
     "output_type": "stream",
     "text": [
      "Found 47009 images belonging to 2 classes.\n"
     ]
    }
   ],
   "source": [
    "train_datagen = ImageDataGenerator(rescale = 1./255,\n",
    "                                   shear_range = 0.2,\n",
    "                                   zoom_range = 0.2,\n",
    "                                   horizontal_flip = True)\n",
    "training_set = train_datagen.flow_from_directory('pics/Training',\n",
    "                                                 target_size = (64, 64),\n",
    "                                                 batch_size = 32,\n",
    "                                                 class_mode = 'binary')"
   ]
  },
  {
   "cell_type": "markdown",
   "id": "611d3264",
   "metadata": {},
   "source": [
    "### preprocessing test data"
   ]
  },
  {
   "cell_type": "code",
   "execution_count": 17,
   "id": "15b82d70",
   "metadata": {},
   "outputs": [
    {
     "name": "stdout",
     "output_type": "stream",
     "text": [
      "Found 11649 images belonging to 2 classes.\n"
     ]
    }
   ],
   "source": [
    "test_datagen = ImageDataGenerator(rescale = 1./255)\n",
    "testing_set = test_datagen.flow_from_directory('pics/Validation',\n",
    "                                               target_size= (64,64),\n",
    "                                               batch_size=32,\n",
    "                                               class_mode='binary')"
   ]
  },
  {
   "cell_type": "markdown",
   "id": "ff33f230",
   "metadata": {},
   "source": [
    "# 2. Build CNN"
   ]
  },
  {
   "cell_type": "code",
   "execution_count": 11,
   "id": "fb8ead29",
   "metadata": {},
   "outputs": [],
   "source": [
    "from keras.models import Sequential \n",
    "from keras.layers import Dense, Conv2D"
   ]
  },
  {
   "cell_type": "code",
   "execution_count": 10,
   "id": "3ada9035",
   "metadata": {},
   "outputs": [
    {
     "name": "stderr",
     "output_type": "stream",
     "text": [
      "2022-09-05 11:49:12.199919: I tensorflow/core/platform/cpu_feature_guard.cc:193] This TensorFlow binary is optimized with oneAPI Deep Neural Network Library (oneDNN) to use the following CPU instructions in performance-critical operations:  AVX2 FMA\n",
      "To enable them in other operations, rebuild TensorFlow with the appropriate compiler flags.\n"
     ]
    }
   ],
   "source": [
    "cnn_model = Sequential()"
   ]
  },
  {
   "cell_type": "code",
   "execution_count": 14,
   "id": "8eeac753",
   "metadata": {},
   "outputs": [],
   "source": [
    "cnn_model.add(Conv2D(filters=32, kernel_size=3, activation='relu', input_shape=[64, 64, 3]))\n",
    "cnn_model.add(tf.keras.layers.MaxPool2D(pool_size=2, strides=2))"
   ]
  },
  {
   "cell_type": "code",
   "execution_count": 15,
   "id": "949ecf92",
   "metadata": {},
   "outputs": [],
   "source": [
    "cnn_model.add(Conv2D(filters=32, kernel_size=3, activation='relu', input_shape=[64, 64, 3]))\n",
    "cnn_model.add(tf.keras.layers.MaxPool2D(pool_size=2, strides=2))"
   ]
  },
  {
   "cell_type": "code",
   "execution_count": 16,
   "id": "4c946f11",
   "metadata": {},
   "outputs": [],
   "source": [
    "cnn_model.add(tf.keras.layers.Flatten())"
   ]
  },
  {
   "cell_type": "code",
   "execution_count": 18,
   "id": "78fd3270",
   "metadata": {},
   "outputs": [],
   "source": [
    "cnn_model.add(tf.keras.layers.Dense(units=128, activation='relu'))"
   ]
  },
  {
   "cell_type": "code",
   "execution_count": 19,
   "id": "dc5988f5",
   "metadata": {},
   "outputs": [],
   "source": [
    "cnn_model.add(tf.keras.layers.Dense(units=1, activation='sigmoid'))"
   ]
  },
  {
   "cell_type": "code",
   "execution_count": 20,
   "id": "3ca01b8a",
   "metadata": {},
   "outputs": [],
   "source": [
    "cnn_model.compile(optimizer = 'adam', loss = 'binary_crossentropy', metrics = ['accuracy'])"
   ]
  },
  {
   "cell_type": "code",
   "execution_count": 23,
   "id": "8d63e2ce",
   "metadata": {},
   "outputs": [
    {
     "name": "stdout",
     "output_type": "stream",
     "text": [
      "Epoch 1/25\n",
      "1470/1470 [==============================] - 271s 184ms/step - loss: 0.2734 - accuracy: 0.8866 - val_loss: 0.1509 - val_accuracy: 0.9407\n",
      "Epoch 2/25\n",
      "1470/1470 [==============================] - 336s 228ms/step - loss: 0.1705 - accuracy: 0.9362 - val_loss: 0.1269 - val_accuracy: 0.9519\n",
      "Epoch 3/25\n",
      "1470/1470 [==============================] - 348s 237ms/step - loss: 0.1473 - accuracy: 0.9463 - val_loss: 0.1366 - val_accuracy: 0.9496\n",
      "Epoch 4/25\n",
      "1470/1470 [==============================] - 268s 182ms/step - loss: 0.1368 - accuracy: 0.9509 - val_loss: 0.1003 - val_accuracy: 0.9649\n",
      "Epoch 5/25\n",
      "1470/1470 [==============================] - 266s 181ms/step - loss: 0.1274 - accuracy: 0.9533 - val_loss: 0.1039 - val_accuracy: 0.9631\n",
      "Epoch 6/25\n",
      "1470/1470 [==============================] - 262s 178ms/step - loss: 0.1234 - accuracy: 0.9560 - val_loss: 0.1044 - val_accuracy: 0.9607\n",
      "Epoch 7/25\n",
      "1470/1470 [==============================] - 7647s 5s/step - loss: 0.1167 - accuracy: 0.9586 - val_loss: 0.0907 - val_accuracy: 0.9668\n",
      "Epoch 8/25\n",
      "1470/1470 [==============================] - 276s 188ms/step - loss: 0.1125 - accuracy: 0.9604 - val_loss: 0.0962 - val_accuracy: 0.9637\n",
      "Epoch 9/25\n",
      "1470/1470 [==============================] - 281s 191ms/step - loss: 0.1094 - accuracy: 0.9615 - val_loss: 0.0930 - val_accuracy: 0.9651\n",
      "Epoch 10/25\n",
      "1470/1470 [==============================] - 337s 229ms/step - loss: 0.1075 - accuracy: 0.9615 - val_loss: 0.0914 - val_accuracy: 0.9673\n",
      "Epoch 11/25\n",
      "1470/1470 [==============================] - 318s 216ms/step - loss: 0.1028 - accuracy: 0.9636 - val_loss: 0.0907 - val_accuracy: 0.9686\n",
      "Epoch 12/25\n",
      "1470/1470 [==============================] - 266s 181ms/step - loss: 0.1027 - accuracy: 0.9622 - val_loss: 0.0972 - val_accuracy: 0.9674\n",
      "Epoch 13/25\n",
      "1470/1470 [==============================] - 268s 182ms/step - loss: 0.0990 - accuracy: 0.9641 - val_loss: 0.0902 - val_accuracy: 0.9663\n",
      "Epoch 14/25\n",
      "1470/1470 [==============================] - 269s 183ms/step - loss: 0.0989 - accuracy: 0.9640 - val_loss: 0.0941 - val_accuracy: 0.9663\n",
      "Epoch 15/25\n",
      "1470/1470 [==============================] - 269s 183ms/step - loss: 0.0952 - accuracy: 0.9661 - val_loss: 0.0970 - val_accuracy: 0.9646\n",
      "Epoch 16/25\n",
      "1470/1470 [==============================] - 258s 176ms/step - loss: 0.0947 - accuracy: 0.9658 - val_loss: 0.0849 - val_accuracy: 0.9689\n",
      "Epoch 17/25\n",
      "1470/1470 [==============================] - 280s 191ms/step - loss: 0.0926 - accuracy: 0.9667 - val_loss: 0.0896 - val_accuracy: 0.9669\n",
      "Epoch 18/25\n",
      "1470/1470 [==============================] - 288s 196ms/step - loss: 0.0906 - accuracy: 0.9678 - val_loss: 0.0887 - val_accuracy: 0.9688\n",
      "Epoch 19/25\n",
      "1470/1470 [==============================] - 300s 204ms/step - loss: 0.0890 - accuracy: 0.9678 - val_loss: 0.0956 - val_accuracy: 0.9674\n",
      "Epoch 20/25\n",
      "1470/1470 [==============================] - 287s 195ms/step - loss: 0.0878 - accuracy: 0.9683 - val_loss: 0.0968 - val_accuracy: 0.9679\n",
      "Epoch 21/25\n",
      "1470/1470 [==============================] - 286s 194ms/step - loss: 0.0848 - accuracy: 0.9697 - val_loss: 0.0931 - val_accuracy: 0.9688\n",
      "Epoch 22/25\n",
      "1470/1470 [==============================] - 282s 191ms/step - loss: 0.0828 - accuracy: 0.9710 - val_loss: 0.0973 - val_accuracy: 0.9663\n",
      "Epoch 23/25\n",
      "1470/1470 [==============================] - 287s 195ms/step - loss: 0.0836 - accuracy: 0.9689 - val_loss: 0.0916 - val_accuracy: 0.9673\n",
      "Epoch 24/25\n",
      "1470/1470 [==============================] - 293s 200ms/step - loss: 0.0817 - accuracy: 0.9712 - val_loss: 0.0972 - val_accuracy: 0.9670\n",
      "Epoch 25/25\n",
      "1470/1470 [==============================] - 296s 201ms/step - loss: 0.0796 - accuracy: 0.9712 - val_loss: 0.0932 - val_accuracy: 0.9659\n"
     ]
    },
    {
     "data": {
      "text/plain": [
       "<keras.callbacks.History at 0x7f9868642e20>"
      ]
     },
     "execution_count": 23,
     "metadata": {},
     "output_type": "execute_result"
    }
   ],
   "source": [
    "cnn_model.fit(x = training_set, validation_data = testing_set, epochs = 25)"
   ]
  },
  {
   "cell_type": "markdown",
   "id": "56d72080",
   "metadata": {},
   "source": [
    "# 3. Make Single Prediction"
   ]
  },
  {
   "cell_type": "code",
   "execution_count": 62,
   "id": "caf5ed83",
   "metadata": {},
   "outputs": [
    {
     "name": "stdout",
     "output_type": "stream",
     "text": [
      "1/1 [==============================] - 0s 57ms/step\n"
     ]
    }
   ],
   "source": [
    "import numpy as np\n",
    "from keras.preprocessing import image\n",
    "from keras import utils\n",
    "test_image = utils.load_img('single prediction/2.jpg', target_size = (64, 64),grayscale=False,color_mode='rgb',interpolation='nearest',keep_aspect_ratio=False)\n",
    "test_image = utils.img_to_array(test_image)\n",
    "test_image = np.expand_dims(test_image, axis = 0)\n",
    "result = cnn_model.predict(test_image)\n",
    "training_set.class_indices\n",
    "if result[0][0] == 1:\n",
    "  prediction = 'male'\n",
    "else:\n",
    "  prediction = 'female'"
   ]
  },
  {
   "cell_type": "code",
   "execution_count": 63,
   "id": "777b9473",
   "metadata": {},
   "outputs": [
    {
     "name": "stdout",
     "output_type": "stream",
     "text": [
      "female\n"
     ]
    }
   ],
   "source": [
    "print(prediction)"
   ]
  },
  {
   "cell_type": "markdown",
   "id": "d22605f1",
   "metadata": {},
   "source": [
    "# 4. Save CNN Model"
   ]
  },
  {
   "cell_type": "code",
   "execution_count": 6,
   "id": "bc29d85b",
   "metadata": {},
   "outputs": [],
   "source": [
    "import pickle"
   ]
  },
  {
   "cell_type": "code",
   "execution_count": 7,
   "id": "8247cc24",
   "metadata": {},
   "outputs": [
    {
     "ename": "NameError",
     "evalue": "name 'cnn_model' is not defined",
     "output_type": "error",
     "traceback": [
      "\u001b[0;31m---------------------------------------------------------------------------\u001b[0m",
      "\u001b[0;31mNameError\u001b[0m                                 Traceback (most recent call last)",
      "Input \u001b[0;32mIn [7]\u001b[0m, in \u001b[0;36m<cell line: 2>\u001b[0;34m()\u001b[0m\n\u001b[1;32m      1\u001b[0m cnn_gender_classification_model \u001b[38;5;241m=\u001b[39m \u001b[38;5;124m'\u001b[39m\u001b[38;5;124mcnn_gender_classification_model.sav\u001b[39m\u001b[38;5;124m'\u001b[39m\n\u001b[0;32m----> 2\u001b[0m pickle\u001b[38;5;241m.\u001b[39mdump(\u001b[43mcnn_model\u001b[49m, \u001b[38;5;28mopen\u001b[39m(cnn_gender_classification_model, \u001b[38;5;124m'\u001b[39m\u001b[38;5;124mwb\u001b[39m\u001b[38;5;124m'\u001b[39m))\n",
      "\u001b[0;31mNameError\u001b[0m: name 'cnn_model' is not defined"
     ]
    }
   ],
   "source": [
    "cnn_gender_classification_model = 'cnn_gender_classification_model.sav'\n",
    "pickle.dump(cnn_model, open(cnn_gender_classification_model, 'wb'))"
   ]
  },
  {
   "cell_type": "markdown",
   "id": "060b7b56",
   "metadata": {},
   "source": [
    "# 5. Load model using this "
   ]
  },
  {
   "cell_type": "code",
   "execution_count": 8,
   "id": "817d22d5",
   "metadata": {},
   "outputs": [
    {
     "name": "stderr",
     "output_type": "stream",
     "text": [
      "2022-09-05 20:57:30.586739: I tensorflow/core/platform/cpu_feature_guard.cc:193] This TensorFlow binary is optimized with oneAPI Deep Neural Network Library (oneDNN) to use the following CPU instructions in performance-critical operations:  AVX2 FMA\n",
      "To enable them in other operations, rebuild TensorFlow with the appropriate compiler flags.\n"
     ]
    }
   ],
   "source": [
    "# load the model from disk\n",
    "cnn_model = pickle.load(open(cnn_gender_classification_model, 'rb'))"
   ]
  },
  {
   "cell_type": "code",
   "execution_count": 20,
   "id": "b3c47a23",
   "metadata": {},
   "outputs": [
    {
     "data": {
      "image/png": "[encoded data removed]",
      "text/plain": [
       "<PIL.Image.Image image mode=RGB size=64x64 at 0x7FEE415292E0>"
      ]
     },
     "execution_count": 20,
     "metadata": {},
     "output_type": "execute_result"
    }
   ],
   "source": [
    "utils.load_img('single predict pic/Marie Curie.jpg', target_size = (64, 64),grayscale=False,color_mode='rgb',interpolation='nearest',keep_aspect_ratio=False)"
   ]
  },
  {
   "cell_type": "code",
   "execution_count": 18,
   "id": "13cb4f5b",
   "metadata": {},
   "outputs": [
    {
     "name": "stdout",
     "output_type": "stream",
     "text": [
      "1/1 [==============================] - 0s 18ms/step\n"
     ]
    }
   ],
   "source": [
    "import numpy as np\n",
    "from keras.preprocessing import image\n",
    "from keras import utils\n",
    "test_image = utils.load_img('single predict pic/Marie Curie.jpg', target_size = (64, 64),grayscale=False,color_mode='rgb',interpolation='nearest',keep_aspect_ratio=False)\n",
    "test_image = utils.img_to_array(test_image)\n",
    "test_image = np.expand_dims(test_image, axis = 0)\n",
    "result = cnn_model.predict(test_image)\n",
    "training_set.class_indices\n",
    "if result[0][0] == 1:\n",
    "  prediction = 'male'\n",
    "else:\n",
    "  prediction = 'female'"
   ]
  },
  {
   "cell_type": "code",
   "execution_count": 19,
   "id": "53e34d99",
   "metadata": {},
   "outputs": [
    {
     "name": "stdout",
     "output_type": "stream",
     "text": [
      "male\n"
     ]
    }
   ],
   "source": [
    "print(prediction)"
   ]
  },
  {
   "cell_type": "code",
   "execution_count": null,
   "id": "946a4c4b",
   "metadata": {},
   "outputs": [],
   "source": []
  }
 ],
 "metadata": {
  "kernelspec": {
   "display_name": "Python 3 (ipykernel)",
   "language": "python",
   "name": "python3"
  },
  "language_info": {
   "codemirror_mode": {
    "name": "ipython",
    "version": 3
   },
   "file_extension": ".py",
   "mimetype": "text/x-python",
   "name": "python",
   "nbconvert_exporter": "python",
   "pygments_lexer": "ipython3",
   "version": "3.9.12"
  }
 },
 "nbformat": 4,
 "nbformat_minor": 5
}
